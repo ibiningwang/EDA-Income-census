{
 "cells": [
  {
   "cell_type": "markdown",
   "id": "a91d2cd4-cf48-4143-8941-12abd376a2d8",
   "metadata": {},
   "source": [
    "## Exploratory Data Analysis of the Income Census Dataset"
   ]
  },
  {
   "cell_type": "code",
   "execution_count": 70,
   "id": "ce792bb8-8e2c-4e43-ae3a-032e12a9080f",
   "metadata": {},
   "outputs": [],
   "source": [
    "# import packages\n",
    "import pandas as pd\n",
    "import numpy as np\n",
    "import matplotlib.pyplot as plt\n",
    "import seaborn as sns"
   ]
  },
  {
   "cell_type": "code",
   "execution_count": 71,
   "id": "64dea92a-56cd-4eed-a07a-691b525ec90b",
   "metadata": {},
   "outputs": [
    {
     "data": {
      "text/html": [
       "<div>\n",
       "<style scoped>\n",
       "    .dataframe tbody tr th:only-of-type {\n",
       "        vertical-align: middle;\n",
       "    }\n",
       "\n",
       "    .dataframe tbody tr th {\n",
       "        vertical-align: top;\n",
       "    }\n",
       "\n",
       "    .dataframe thead th {\n",
       "        text-align: right;\n",
       "    }\n",
       "</style>\n",
       "<table border=\"1\" class=\"dataframe\">\n",
       "  <thead>\n",
       "    <tr style=\"text-align: right;\">\n",
       "      <th></th>\n",
       "      <th>age</th>\n",
       "      <th>workclass</th>\n",
       "      <th>fnlwgt</th>\n",
       "      <th>education</th>\n",
       "      <th>education.num</th>\n",
       "      <th>marital.status</th>\n",
       "      <th>occupation</th>\n",
       "      <th>relationship</th>\n",
       "      <th>race</th>\n",
       "      <th>sex</th>\n",
       "      <th>capital.gain</th>\n",
       "      <th>capital.loss</th>\n",
       "      <th>hours.per.week</th>\n",
       "      <th>native.country</th>\n",
       "      <th>income</th>\n",
       "    </tr>\n",
       "  </thead>\n",
       "  <tbody>\n",
       "    <tr>\n",
       "      <th>0</th>\n",
       "      <td>90</td>\n",
       "      <td>?</td>\n",
       "      <td>77053</td>\n",
       "      <td>HS-grad</td>\n",
       "      <td>9</td>\n",
       "      <td>Widowed</td>\n",
       "      <td>?</td>\n",
       "      <td>Not-in-family</td>\n",
       "      <td>White</td>\n",
       "      <td>Female</td>\n",
       "      <td>0</td>\n",
       "      <td>4356</td>\n",
       "      <td>40</td>\n",
       "      <td>United-States</td>\n",
       "      <td>&lt;=50K</td>\n",
       "    </tr>\n",
       "    <tr>\n",
       "      <th>1</th>\n",
       "      <td>82</td>\n",
       "      <td>Private</td>\n",
       "      <td>132870</td>\n",
       "      <td>HS-grad</td>\n",
       "      <td>9</td>\n",
       "      <td>Widowed</td>\n",
       "      <td>Exec-managerial</td>\n",
       "      <td>Not-in-family</td>\n",
       "      <td>White</td>\n",
       "      <td>Female</td>\n",
       "      <td>0</td>\n",
       "      <td>4356</td>\n",
       "      <td>18</td>\n",
       "      <td>United-States</td>\n",
       "      <td>&lt;=50K</td>\n",
       "    </tr>\n",
       "    <tr>\n",
       "      <th>2</th>\n",
       "      <td>66</td>\n",
       "      <td>?</td>\n",
       "      <td>186061</td>\n",
       "      <td>Some-college</td>\n",
       "      <td>10</td>\n",
       "      <td>Widowed</td>\n",
       "      <td>?</td>\n",
       "      <td>Unmarried</td>\n",
       "      <td>Black</td>\n",
       "      <td>Female</td>\n",
       "      <td>0</td>\n",
       "      <td>4356</td>\n",
       "      <td>40</td>\n",
       "      <td>United-States</td>\n",
       "      <td>&lt;=50K</td>\n",
       "    </tr>\n",
       "    <tr>\n",
       "      <th>3</th>\n",
       "      <td>54</td>\n",
       "      <td>Private</td>\n",
       "      <td>140359</td>\n",
       "      <td>7th-8th</td>\n",
       "      <td>4</td>\n",
       "      <td>Divorced</td>\n",
       "      <td>Machine-op-inspct</td>\n",
       "      <td>Unmarried</td>\n",
       "      <td>White</td>\n",
       "      <td>Female</td>\n",
       "      <td>0</td>\n",
       "      <td>3900</td>\n",
       "      <td>40</td>\n",
       "      <td>United-States</td>\n",
       "      <td>&lt;=50K</td>\n",
       "    </tr>\n",
       "    <tr>\n",
       "      <th>4</th>\n",
       "      <td>41</td>\n",
       "      <td>Private</td>\n",
       "      <td>264663</td>\n",
       "      <td>Some-college</td>\n",
       "      <td>10</td>\n",
       "      <td>Separated</td>\n",
       "      <td>Prof-specialty</td>\n",
       "      <td>Own-child</td>\n",
       "      <td>White</td>\n",
       "      <td>Female</td>\n",
       "      <td>0</td>\n",
       "      <td>3900</td>\n",
       "      <td>40</td>\n",
       "      <td>United-States</td>\n",
       "      <td>&lt;=50K</td>\n",
       "    </tr>\n",
       "  </tbody>\n",
       "</table>\n",
       "</div>"
      ],
      "text/plain": [
       "   age workclass  fnlwgt     education  education.num marital.status  \\\n",
       "0   90         ?   77053       HS-grad              9        Widowed   \n",
       "1   82   Private  132870       HS-grad              9        Widowed   \n",
       "2   66         ?  186061  Some-college             10        Widowed   \n",
       "3   54   Private  140359       7th-8th              4       Divorced   \n",
       "4   41   Private  264663  Some-college             10      Separated   \n",
       "\n",
       "          occupation   relationship   race     sex  capital.gain  \\\n",
       "0                  ?  Not-in-family  White  Female             0   \n",
       "1    Exec-managerial  Not-in-family  White  Female             0   \n",
       "2                  ?      Unmarried  Black  Female             0   \n",
       "3  Machine-op-inspct      Unmarried  White  Female             0   \n",
       "4     Prof-specialty      Own-child  White  Female             0   \n",
       "\n",
       "   capital.loss  hours.per.week native.country income  \n",
       "0          4356              40  United-States  <=50K  \n",
       "1          4356              18  United-States  <=50K  \n",
       "2          4356              40  United-States  <=50K  \n",
       "3          3900              40  United-States  <=50K  \n",
       "4          3900              40  United-States  <=50K  "
      ]
     },
     "execution_count": 71,
     "metadata": {},
     "output_type": "execute_result"
    }
   ],
   "source": [
    "# load data\n",
    "income_census = pd.read_csv(\"income_census.csv\")\n",
    "income_census.head()"
   ]
  },
  {
   "cell_type": "markdown",
   "id": "123a67e6-301a-4a71-b6cb-98c885ec1af2",
   "metadata": {},
   "source": [
    "### Understanding the variables"
   ]
  },
  {
   "cell_type": "code",
   "execution_count": 72,
   "id": "315c4fce-3c79-437a-92ce-bb53b8003a19",
   "metadata": {},
   "outputs": [
    {
     "data": {
      "text/html": [
       "<div>\n",
       "<style scoped>\n",
       "    .dataframe tbody tr th:only-of-type {\n",
       "        vertical-align: middle;\n",
       "    }\n",
       "\n",
       "    .dataframe tbody tr th {\n",
       "        vertical-align: top;\n",
       "    }\n",
       "\n",
       "    .dataframe thead th {\n",
       "        text-align: right;\n",
       "    }\n",
       "</style>\n",
       "<table border=\"1\" class=\"dataframe\">\n",
       "  <thead>\n",
       "    <tr style=\"text-align: right;\">\n",
       "      <th></th>\n",
       "      <th>Number of unique values</th>\n",
       "      <th>Values</th>\n",
       "    </tr>\n",
       "    <tr>\n",
       "      <th>Variables</th>\n",
       "      <th></th>\n",
       "      <th></th>\n",
       "    </tr>\n",
       "  </thead>\n",
       "  <tbody>\n",
       "    <tr>\n",
       "      <th>age</th>\n",
       "      <td>73</td>\n",
       "      <td>[90, 82, 66, 54, 41, 34, 38, 74, 68, 45, 52, 3...</td>\n",
       "    </tr>\n",
       "    <tr>\n",
       "      <th>workclass</th>\n",
       "      <td>9</td>\n",
       "      <td>[?, Private, State-gov, Federal-gov, Self-emp-...</td>\n",
       "    </tr>\n",
       "    <tr>\n",
       "      <th>fnlwgt</th>\n",
       "      <td>21648</td>\n",
       "      <td>[77053, 132870, 186061, 140359, 264663, 216864...</td>\n",
       "    </tr>\n",
       "    <tr>\n",
       "      <th>education</th>\n",
       "      <td>16</td>\n",
       "      <td>[HS-grad, Some-college, 7th-8th, 10th, Doctora...</td>\n",
       "    </tr>\n",
       "    <tr>\n",
       "      <th>education.num</th>\n",
       "      <td>16</td>\n",
       "      <td>[9, 10, 4, 6, 16, 15, 13, 14, 7, 12, 11, 2, 3,...</td>\n",
       "    </tr>\n",
       "    <tr>\n",
       "      <th>marital.status</th>\n",
       "      <td>7</td>\n",
       "      <td>[Widowed, Divorced, Separated, Never-married, ...</td>\n",
       "    </tr>\n",
       "    <tr>\n",
       "      <th>occupation</th>\n",
       "      <td>15</td>\n",
       "      <td>[?, Exec-managerial, Machine-op-inspct, Prof-s...</td>\n",
       "    </tr>\n",
       "    <tr>\n",
       "      <th>relationship</th>\n",
       "      <td>6</td>\n",
       "      <td>[Not-in-family, Unmarried, Own-child, Other-re...</td>\n",
       "    </tr>\n",
       "    <tr>\n",
       "      <th>race</th>\n",
       "      <td>5</td>\n",
       "      <td>[White, Black, Asian-Pac-Islander, Other, Amer...</td>\n",
       "    </tr>\n",
       "    <tr>\n",
       "      <th>sex</th>\n",
       "      <td>2</td>\n",
       "      <td>[Female, Male]</td>\n",
       "    </tr>\n",
       "    <tr>\n",
       "      <th>capital.gain</th>\n",
       "      <td>119</td>\n",
       "      <td>[0, 99999, 41310, 34095, 27828, 25236, 25124, ...</td>\n",
       "    </tr>\n",
       "    <tr>\n",
       "      <th>capital.loss</th>\n",
       "      <td>92</td>\n",
       "      <td>[4356, 3900, 3770, 3683, 3004, 2824, 2754, 260...</td>\n",
       "    </tr>\n",
       "    <tr>\n",
       "      <th>hours.per.week</th>\n",
       "      <td>94</td>\n",
       "      <td>[40, 18, 45, 20, 60, 35, 55, 76, 50, 42, 25, 3...</td>\n",
       "    </tr>\n",
       "    <tr>\n",
       "      <th>native.country</th>\n",
       "      <td>42</td>\n",
       "      <td>[United-States, ?, Mexico, Greece, Vietnam, Ch...</td>\n",
       "    </tr>\n",
       "    <tr>\n",
       "      <th>income</th>\n",
       "      <td>2</td>\n",
       "      <td>[&lt;=50K, &gt;50K]</td>\n",
       "    </tr>\n",
       "  </tbody>\n",
       "</table>\n",
       "</div>"
      ],
      "text/plain": [
       "               Number of unique values  \\\n",
       "Variables                                \n",
       "age                                 73   \n",
       "workclass                            9   \n",
       "fnlwgt                           21648   \n",
       "education                           16   \n",
       "education.num                       16   \n",
       "marital.status                       7   \n",
       "occupation                          15   \n",
       "relationship                         6   \n",
       "race                                 5   \n",
       "sex                                  2   \n",
       "capital.gain                       119   \n",
       "capital.loss                        92   \n",
       "hours.per.week                      94   \n",
       "native.country                      42   \n",
       "income                               2   \n",
       "\n",
       "                                                           Values  \n",
       "Variables                                                          \n",
       "age             [90, 82, 66, 54, 41, 34, 38, 74, 68, 45, 52, 3...  \n",
       "workclass       [?, Private, State-gov, Federal-gov, Self-emp-...  \n",
       "fnlwgt          [77053, 132870, 186061, 140359, 264663, 216864...  \n",
       "education       [HS-grad, Some-college, 7th-8th, 10th, Doctora...  \n",
       "education.num   [9, 10, 4, 6, 16, 15, 13, 14, 7, 12, 11, 2, 3,...  \n",
       "marital.status  [Widowed, Divorced, Separated, Never-married, ...  \n",
       "occupation      [?, Exec-managerial, Machine-op-inspct, Prof-s...  \n",
       "relationship    [Not-in-family, Unmarried, Own-child, Other-re...  \n",
       "race            [White, Black, Asian-Pac-Islander, Other, Amer...  \n",
       "sex                                                [Female, Male]  \n",
       "capital.gain    [0, 99999, 41310, 34095, 27828, 25236, 25124, ...  \n",
       "capital.loss    [4356, 3900, 3770, 3683, 3004, 2824, 2754, 260...  \n",
       "hours.per.week  [40, 18, 45, 20, 60, 35, 55, 76, 50, 42, 25, 3...  \n",
       "native.country  [United-States, ?, Mexico, Greece, Vietnam, Ch...  \n",
       "income                                              [<=50K, >50K]  "
      ]
     },
     "execution_count": 72,
     "metadata": {},
     "output_type": "execute_result"
    }
   ],
   "source": [
    "variables = pd.DataFrame(columns=['Variables','Number of unique values','Values'])\n",
    "\n",
    "for i, var in enumerate(income_census.columns):\n",
    "    variables.loc[i] = [var, income_census[var].nunique(), income_census[var].unique()]\n",
    "\n",
    "variables.set_index('Variables')\n",
    "\n",
    "                         "
   ]
  },
  {
   "cell_type": "markdown",
   "id": "e3b4c3a4-8f73-4f84-962e-4f753dc6a967",
   "metadata": {},
   "source": [
    "### Replacing all the \"?\" characters as missing values"
   ]
  },
  {
   "cell_type": "code",
   "execution_count": 73,
   "id": "610e1842-300c-457a-b459-5920bc7d8727",
   "metadata": {},
   "outputs": [],
   "source": [
    "income_census.loc[income_census.workclass == \"?\", \"workclass\"] = np.nan\n",
    "income_census.loc[income_census.occupation == \"?\", \"occupation\"] = np.nan\n",
    "income_census.loc[income_census[\"native.country\"] == \"?\", \"native.country\"] = np.nan\n"
   ]
  },
  {
   "cell_type": "code",
   "execution_count": 74,
   "id": "8d694873-0185-47ff-9add-d7d062718d42",
   "metadata": {},
   "outputs": [
    {
     "name": "stdout",
     "output_type": "stream",
     "text": [
      "<class 'pandas.core.frame.DataFrame'>\n",
      "RangeIndex: 32561 entries, 0 to 32560\n",
      "Data columns (total 15 columns):\n",
      " #   Column          Non-Null Count  Dtype \n",
      "---  ------          --------------  ----- \n",
      " 0   age             32561 non-null  int64 \n",
      " 1   workclass       30725 non-null  object\n",
      " 2   fnlwgt          32561 non-null  int64 \n",
      " 3   education       32561 non-null  object\n",
      " 4   education.num   32561 non-null  int64 \n",
      " 5   marital.status  32561 non-null  object\n",
      " 6   occupation      30718 non-null  object\n",
      " 7   relationship    32561 non-null  object\n",
      " 8   race            32561 non-null  object\n",
      " 9   sex             32561 non-null  object\n",
      " 10  capital.gain    32561 non-null  int64 \n",
      " 11  capital.loss    32561 non-null  int64 \n",
      " 12  hours.per.week  32561 non-null  int64 \n",
      " 13  native.country  31978 non-null  object\n",
      " 14  income          32561 non-null  object\n",
      "dtypes: int64(6), object(9)\n",
      "memory usage: 3.7+ MB\n"
     ]
    }
   ],
   "source": [
    "# basic information about dataset\n",
    "income_census.info()"
   ]
  },
  {
   "cell_type": "markdown",
   "id": "74403914-d20a-4979-9f77-4e58a8370dfd",
   "metadata": {},
   "source": [
    "### Converting all the non-numeric variables to categorical (normimal and ordinal)"
   ]
  },
  {
   "cell_type": "code",
   "execution_count": 75,
   "id": "da511aaa-c266-47c3-b980-db76bfe77693",
   "metadata": {},
   "outputs": [],
   "source": [
    "# categorical normal variables\n",
    "income_census['workclass'] = income_census['workclass'].astype('category')\n",
    "income_census['marital.status'] = income_census['marital.status'].astype('category')\n",
    "income_census['occupation'] = income_census['occupation'].astype('category')\n",
    "income_census['relationship'] = income_census['relationship'].astype('category')\n",
    "income_census['race'] = income_census['race'].astype('category')\n",
    "income_census['sex'] = income_census['sex'].astype('category')\n",
    "income_census['native.country'] = income_census['native.country'].astype('category')\n",
    "\n",
    "# categorical ordinal variables\n",
    "income_census['income'] = income_census['income'].astype('category')\n",
    "# setting the the order of income variable\n",
    "income_census['income'] = income_census['income'].cat.set_categories(new_categories=['<=50K','>50K'],\n",
    "                                                                     ordered=True)\n",
    "income_census['education'] = income_census['education'].astype('category')"
   ]
  },
  {
   "cell_type": "code",
   "execution_count": 76,
   "id": "24559ecd-f168-4159-b021-8f26479c1ce0",
   "metadata": {},
   "outputs": [
    {
     "data": {
      "text/html": [
       "<div>\n",
       "<style scoped>\n",
       "    .dataframe tbody tr th:only-of-type {\n",
       "        vertical-align: middle;\n",
       "    }\n",
       "\n",
       "    .dataframe tbody tr th {\n",
       "        vertical-align: top;\n",
       "    }\n",
       "\n",
       "    .dataframe thead th {\n",
       "        text-align: right;\n",
       "    }\n",
       "</style>\n",
       "<table border=\"1\" class=\"dataframe\">\n",
       "  <thead>\n",
       "    <tr style=\"text-align: right;\">\n",
       "      <th></th>\n",
       "      <th>num_uniq</th>\n",
       "    </tr>\n",
       "    <tr>\n",
       "      <th>edu_uniq</th>\n",
       "      <th></th>\n",
       "    </tr>\n",
       "  </thead>\n",
       "  <tbody>\n",
       "    <tr>\n",
       "      <th>Preschool</th>\n",
       "      <td>1</td>\n",
       "    </tr>\n",
       "    <tr>\n",
       "      <th>1st-4th</th>\n",
       "      <td>2</td>\n",
       "    </tr>\n",
       "    <tr>\n",
       "      <th>5th-6th</th>\n",
       "      <td>3</td>\n",
       "    </tr>\n",
       "    <tr>\n",
       "      <th>7th-8th</th>\n",
       "      <td>4</td>\n",
       "    </tr>\n",
       "    <tr>\n",
       "      <th>9th</th>\n",
       "      <td>5</td>\n",
       "    </tr>\n",
       "    <tr>\n",
       "      <th>10th</th>\n",
       "      <td>6</td>\n",
       "    </tr>\n",
       "    <tr>\n",
       "      <th>11th</th>\n",
       "      <td>7</td>\n",
       "    </tr>\n",
       "    <tr>\n",
       "      <th>12th</th>\n",
       "      <td>8</td>\n",
       "    </tr>\n",
       "    <tr>\n",
       "      <th>HS-grad</th>\n",
       "      <td>9</td>\n",
       "    </tr>\n",
       "    <tr>\n",
       "      <th>Some-college</th>\n",
       "      <td>10</td>\n",
       "    </tr>\n",
       "    <tr>\n",
       "      <th>Assoc-voc</th>\n",
       "      <td>11</td>\n",
       "    </tr>\n",
       "    <tr>\n",
       "      <th>Assoc-acdm</th>\n",
       "      <td>12</td>\n",
       "    </tr>\n",
       "    <tr>\n",
       "      <th>Bachelors</th>\n",
       "      <td>13</td>\n",
       "    </tr>\n",
       "    <tr>\n",
       "      <th>Masters</th>\n",
       "      <td>14</td>\n",
       "    </tr>\n",
       "    <tr>\n",
       "      <th>Prof-school</th>\n",
       "      <td>15</td>\n",
       "    </tr>\n",
       "    <tr>\n",
       "      <th>Doctorate</th>\n",
       "      <td>16</td>\n",
       "    </tr>\n",
       "  </tbody>\n",
       "</table>\n",
       "</div>"
      ],
      "text/plain": [
       "              num_uniq\n",
       "edu_uniq              \n",
       "Preschool            1\n",
       "1st-4th              2\n",
       "5th-6th              3\n",
       "7th-8th              4\n",
       "9th                  5\n",
       "10th                 6\n",
       "11th                 7\n",
       "12th                 8\n",
       "HS-grad              9\n",
       "Some-college        10\n",
       "Assoc-voc           11\n",
       "Assoc-acdm          12\n",
       "Bachelors           13\n",
       "Masters             14\n",
       "Prof-school         15\n",
       "Doctorate           16"
      ]
     },
     "execution_count": 76,
     "metadata": {},
     "output_type": "execute_result"
    }
   ],
   "source": [
    "# education vs education.num order\n",
    "edu_num = pd.DataFrame({'edu_uniq':income_census['education'].unique(), \n",
    "                        'num_uniq':income_census['education.num'].unique()})\n",
    "edu_num.sort_values('num_uniq', ascending=True).set_index('edu_uniq')"
   ]
  },
  {
   "cell_type": "code",
   "execution_count": 77,
   "id": "9e949fb8-a25c-472c-aee7-688cd098a018",
   "metadata": {},
   "outputs": [],
   "source": [
    "# list of the order of education\n",
    "education_order = ['Preschool','1st-4th','5th-6th','7th-8th','9th','10th','11th','12th','HS-grad','Some-college',\n",
    "                   'Assoc-voc','Assoc-acdm','Bachelors','Masters','Prof-school','Doctorate']\n",
    "# setting the order of the education variable\n",
    "income_census['education'] = income_census['education'].cat.set_categories(new_categories=education_order,\n",
    "                                                                           ordered=True)"
   ]
  },
  {
   "cell_type": "code",
   "execution_count": 78,
   "id": "39970c21-1f2a-4142-a85e-d7c64d130f12",
   "metadata": {},
   "outputs": [
    {
     "data": {
      "text/html": [
       "<div>\n",
       "<style scoped>\n",
       "    .dataframe tbody tr th:only-of-type {\n",
       "        vertical-align: middle;\n",
       "    }\n",
       "\n",
       "    .dataframe tbody tr th {\n",
       "        vertical-align: top;\n",
       "    }\n",
       "\n",
       "    .dataframe thead th {\n",
       "        text-align: right;\n",
       "    }\n",
       "</style>\n",
       "<table border=\"1\" class=\"dataframe\">\n",
       "  <thead>\n",
       "    <tr style=\"text-align: right;\">\n",
       "      <th></th>\n",
       "      <th>age</th>\n",
       "      <th>workclass</th>\n",
       "      <th>fnlwgt</th>\n",
       "      <th>education</th>\n",
       "      <th>education.num</th>\n",
       "      <th>marital.status</th>\n",
       "      <th>occupation</th>\n",
       "      <th>relationship</th>\n",
       "      <th>race</th>\n",
       "      <th>sex</th>\n",
       "      <th>capital.gain</th>\n",
       "      <th>capital.loss</th>\n",
       "      <th>hours.per.week</th>\n",
       "      <th>native.country</th>\n",
       "      <th>income</th>\n",
       "    </tr>\n",
       "  </thead>\n",
       "  <tbody>\n",
       "    <tr>\n",
       "      <th>0</th>\n",
       "      <td>90</td>\n",
       "      <td>NaN</td>\n",
       "      <td>77053</td>\n",
       "      <td>HS-grad</td>\n",
       "      <td>9</td>\n",
       "      <td>Widowed</td>\n",
       "      <td>NaN</td>\n",
       "      <td>Not-in-family</td>\n",
       "      <td>White</td>\n",
       "      <td>Female</td>\n",
       "      <td>0</td>\n",
       "      <td>4356</td>\n",
       "      <td>40</td>\n",
       "      <td>United-States</td>\n",
       "      <td>&lt;=50K</td>\n",
       "    </tr>\n",
       "    <tr>\n",
       "      <th>1</th>\n",
       "      <td>82</td>\n",
       "      <td>Private</td>\n",
       "      <td>132870</td>\n",
       "      <td>HS-grad</td>\n",
       "      <td>9</td>\n",
       "      <td>Widowed</td>\n",
       "      <td>Exec-managerial</td>\n",
       "      <td>Not-in-family</td>\n",
       "      <td>White</td>\n",
       "      <td>Female</td>\n",
       "      <td>0</td>\n",
       "      <td>4356</td>\n",
       "      <td>18</td>\n",
       "      <td>United-States</td>\n",
       "      <td>&lt;=50K</td>\n",
       "    </tr>\n",
       "    <tr>\n",
       "      <th>2</th>\n",
       "      <td>66</td>\n",
       "      <td>NaN</td>\n",
       "      <td>186061</td>\n",
       "      <td>Some-college</td>\n",
       "      <td>10</td>\n",
       "      <td>Widowed</td>\n",
       "      <td>NaN</td>\n",
       "      <td>Unmarried</td>\n",
       "      <td>Black</td>\n",
       "      <td>Female</td>\n",
       "      <td>0</td>\n",
       "      <td>4356</td>\n",
       "      <td>40</td>\n",
       "      <td>United-States</td>\n",
       "      <td>&lt;=50K</td>\n",
       "    </tr>\n",
       "    <tr>\n",
       "      <th>3</th>\n",
       "      <td>54</td>\n",
       "      <td>Private</td>\n",
       "      <td>140359</td>\n",
       "      <td>7th-8th</td>\n",
       "      <td>4</td>\n",
       "      <td>Divorced</td>\n",
       "      <td>Machine-op-inspct</td>\n",
       "      <td>Unmarried</td>\n",
       "      <td>White</td>\n",
       "      <td>Female</td>\n",
       "      <td>0</td>\n",
       "      <td>3900</td>\n",
       "      <td>40</td>\n",
       "      <td>United-States</td>\n",
       "      <td>&lt;=50K</td>\n",
       "    </tr>\n",
       "    <tr>\n",
       "      <th>4</th>\n",
       "      <td>41</td>\n",
       "      <td>Private</td>\n",
       "      <td>264663</td>\n",
       "      <td>Some-college</td>\n",
       "      <td>10</td>\n",
       "      <td>Separated</td>\n",
       "      <td>Prof-specialty</td>\n",
       "      <td>Own-child</td>\n",
       "      <td>White</td>\n",
       "      <td>Female</td>\n",
       "      <td>0</td>\n",
       "      <td>3900</td>\n",
       "      <td>40</td>\n",
       "      <td>United-States</td>\n",
       "      <td>&lt;=50K</td>\n",
       "    </tr>\n",
       "  </tbody>\n",
       "</table>\n",
       "</div>"
      ],
      "text/plain": [
       "   age workclass  fnlwgt     education  education.num marital.status  \\\n",
       "0   90       NaN   77053       HS-grad              9        Widowed   \n",
       "1   82   Private  132870       HS-grad              9        Widowed   \n",
       "2   66       NaN  186061  Some-college             10        Widowed   \n",
       "3   54   Private  140359       7th-8th              4       Divorced   \n",
       "4   41   Private  264663  Some-college             10      Separated   \n",
       "\n",
       "          occupation   relationship   race     sex  capital.gain  \\\n",
       "0                NaN  Not-in-family  White  Female             0   \n",
       "1    Exec-managerial  Not-in-family  White  Female             0   \n",
       "2                NaN      Unmarried  Black  Female             0   \n",
       "3  Machine-op-inspct      Unmarried  White  Female             0   \n",
       "4     Prof-specialty      Own-child  White  Female             0   \n",
       "\n",
       "   capital.loss  hours.per.week native.country income  \n",
       "0          4356              40  United-States  <=50K  \n",
       "1          4356              18  United-States  <=50K  \n",
       "2          4356              40  United-States  <=50K  \n",
       "3          3900              40  United-States  <=50K  \n",
       "4          3900              40  United-States  <=50K  "
      ]
     },
     "execution_count": 78,
     "metadata": {},
     "output_type": "execute_result"
    }
   ],
   "source": [
    "# head of the processed dataset\n",
    "income_census.head()"
   ]
  },
  {
   "cell_type": "code",
   "execution_count": 79,
   "id": "b6d966d1-7dec-4367-9288-b6af95606d16",
   "metadata": {},
   "outputs": [
    {
     "data": {
      "text/plain": [
       "(32561, 15)"
      ]
     },
     "execution_count": 79,
     "metadata": {},
     "output_type": "execute_result"
    }
   ],
   "source": [
    "income_census.shape"
   ]
  },
  {
   "cell_type": "code",
   "execution_count": 80,
   "id": "1c0498be-c660-4534-a1a9-4737b0fa5ac8",
   "metadata": {},
   "outputs": [
    {
     "name": "stdout",
     "output_type": "stream",
     "text": [
      "<class 'pandas.core.frame.DataFrame'>\n",
      "RangeIndex: 32561 entries, 0 to 32560\n",
      "Data columns (total 15 columns):\n",
      " #   Column          Non-Null Count  Dtype   \n",
      "---  ------          --------------  -----   \n",
      " 0   age             32561 non-null  int64   \n",
      " 1   workclass       30725 non-null  category\n",
      " 2   fnlwgt          32561 non-null  int64   \n",
      " 3   education       32561 non-null  category\n",
      " 4   education.num   32561 non-null  int64   \n",
      " 5   marital.status  32561 non-null  category\n",
      " 6   occupation      30718 non-null  category\n",
      " 7   relationship    32561 non-null  category\n",
      " 8   race            32561 non-null  category\n",
      " 9   sex             32561 non-null  category\n",
      " 10  capital.gain    32561 non-null  int64   \n",
      " 11  capital.loss    32561 non-null  int64   \n",
      " 12  hours.per.week  32561 non-null  int64   \n",
      " 13  native.country  31978 non-null  category\n",
      " 14  income          32561 non-null  category\n",
      "dtypes: category(9), int64(6)\n",
      "memory usage: 1.8 MB\n"
     ]
    }
   ],
   "source": [
    "# checking the updated datatypes\n",
    "income_census.info()"
   ]
  },
  {
   "cell_type": "markdown",
   "id": "0820e3c5-28a5-4828-a7ac-a43ee5914fb5",
   "metadata": {},
   "source": [
    "### Univariate exploration"
   ]
  },
  {
   "cell_type": "markdown",
   "id": "c13f08d6-668c-4988-8f17-7e4231238232",
   "metadata": {},
   "source": [
    "#### Age:"
   ]
  },
  {
   "cell_type": "code",
   "execution_count": 81,
   "id": "f6e8596c-540e-491a-af48-9922787c34fe",
   "metadata": {},
   "outputs": [
    {
     "data": {
      "image/png": "[encoded data removed]",
      "text/plain": [
       "<Figure size 360x360 with 1 Axes>"
      ]
     },
     "metadata": {
      "needs_background": "light"
     },
     "output_type": "display_data"
    }
   ],
   "source": [
    "sns.displot(income_census['age'])\n",
    "plt.ylabel('Number of censored')\n",
    "plt.xlabel('Age')\n",
    "plt.title('Distribution of ages censored')\n",
    "plt.show()"
   ]
  },
  {
   "cell_type": "code",
   "execution_count": 82,
   "id": "328267b0-9b51-4797-9043-1db25b7373b3",
   "metadata": {},
   "outputs": [
    {
     "data": {
      "text/plain": [
       "17"
      ]
     },
     "execution_count": 82,
     "metadata": {},
     "output_type": "execute_result"
    }
   ],
   "source": [
    "# range of ages\n",
    "min_age = income_census['age'].min()\n",
    "min_age"
   ]
  },
  {
   "cell_type": "code",
   "execution_count": 83,
   "id": "6871eb07-1554-4602-b7eb-43cee7fb7711",
   "metadata": {},
   "outputs": [
    {
     "data": {
      "text/plain": [
       "90"
      ]
     },
     "execution_count": 83,
     "metadata": {},
     "output_type": "execute_result"
    }
   ],
   "source": [
    "max_age = income_census['age'].max()\n",
    "max_age"
   ]
  },
  {
   "cell_type": "markdown",
   "id": "8917379c-0cd2-4080-bb9e-80f76deb42c0",
   "metadata": {},
   "source": [
    "The ages of people censored range from from 17 to 90. The density is higest between 26 and 56. Therefore, we could categorize the age variable into 3 groups for clarity in the analysis. That is 17-25, 26-55, and 56+"
   ]
  },
  {
   "cell_type": "code",
   "execution_count": 84,
   "id": "0ca80430-a5ed-4a63-b1ed-3c15065d29fd",
   "metadata": {},
   "outputs": [
    {
     "data": {
      "text/plain": [
       "['56+', '26-55', '17-25']\n",
       "Categories (3, object): ['17-25' < '26-55' < '56+']"
      ]
     },
     "execution_count": 84,
     "metadata": {},
     "output_type": "execute_result"
    }
   ],
   "source": [
    "# creating age groups\n",
    "ranges = [16, 25, 55, np.inf]\n",
    "groups = ['17-25','26-55','56+']\n",
    "\n",
    "# creating the age group column\n",
    "income_census['age_group'] = pd.cut(income_census['age'], bins=ranges, labels=groups)\n",
    "income_census['age_group'].unique()"
   ]
  },
  {
   "cell_type": "code",
   "execution_count": 85,
   "id": "8fe69208-6be9-4637-a5f2-4eca30202bf2",
   "metadata": {},
   "outputs": [
    {
     "data": {
      "image/png": "[encoded data removed]",
      "text/plain": [
       "<Figure size 432x288 with 1 Axes>"
      ]
     },
     "metadata": {
      "needs_background": "light"
     },
     "output_type": "display_data"
    }
   ],
   "source": [
    "# graphical display of the age groups\n",
    "sns.countplot(x='age_group', data=income_census)\n",
    "plt.ylabel('Number of people censored')\n",
    "plt.title('Distribution of the age groups')\n",
    "plt.show()"
   ]
  },
  {
   "cell_type": "code",
   "execution_count": 86,
   "id": "0b95935a-961f-48d7-b59f-3c5d5f36e0f2",
   "metadata": {},
   "outputs": [
    {
     "data": {
      "text/plain": [
       "26-55    67.75\n",
       "17-25    19.69\n",
       "56+      12.56\n",
       "Name: age_group, dtype: float64"
      ]
     },
     "execution_count": 86,
     "metadata": {},
     "output_type": "execute_result"
    }
   ],
   "source": [
    "# determining the proportions of the age groups\n",
    "round(income_census['age_group'].value_counts(normalize=True) * 100, 2)"
   ]
  },
  {
   "cell_type": "markdown",
   "id": "49fded75-1634-4093-a2e2-862baf3a8c54",
   "metadata": {},
   "source": [
    "`67.75%` of the people censored were in the '26-55' age group, constituting the highest proportion."
   ]
  },
  {
   "cell_type": "markdown",
   "id": "c8924390-3b2a-4d52-baa0-9571c4aecc21",
   "metadata": {},
   "source": [
    "#### Workclass:"
   ]
  },
  {
   "cell_type": "code",
   "execution_count": 87,
   "id": "156a77c5-7dfe-4614-9790-75469bb29929",
   "metadata": {},
   "outputs": [
    {
     "data": {
      "image/png": "[encoded data removed]",
      "text/plain": [
       "<Figure size 432x288 with 1 Axes>"
      ]
     },
     "metadata": {
      "needs_background": "light"
     },
     "output_type": "display_data"
    }
   ],
   "source": [
    "# distribution of the workclass variable\n",
    "sns.countplot(x='workclass', data=income_census)\n",
    "plt.xticks(rotation=30)\n",
    "plt.ylabel('Number of people')\n",
    "plt.title('Distribution of workclass people')\n",
    "plt.show()"
   ]
  },
  {
   "cell_type": "code",
   "execution_count": 88,
   "id": "1d94ad1b-2093-4760-9b00-642485008576",
   "metadata": {},
   "outputs": [
    {
     "data": {
      "text/plain": [
       "Private             69.70\n",
       "Self-emp-not-inc     7.80\n",
       "Local-gov            6.43\n",
       "NaN                  5.64\n",
       "State-gov            3.99\n",
       "Self-emp-inc         3.43\n",
       "Federal-gov          2.95\n",
       "Without-pay          0.04\n",
       "Never-worked         0.02\n",
       "Name: workclass, dtype: float64"
      ]
     },
     "execution_count": 88,
     "metadata": {},
     "output_type": "execute_result"
    }
   ],
   "source": [
    "# determining the proportions of the work classes\n",
    "round(income_census['workclass'].value_counts(normalize=True, dropna=False) * 100, 2)"
   ]
  },
  {
   "cell_type": "markdown",
   "id": "7d78528d-fe87-4d82-bafd-04910fbe398a",
   "metadata": {},
   "source": [
    "`69.70%` of people censored were of the 'Private' workclass, which is the highest proportion."
   ]
  },
  {
   "cell_type": "markdown",
   "id": "9471b291-6001-4a16-9b1d-91149de46d68",
   "metadata": {},
   "source": [
    "#### Education:"
   ]
  },
  {
   "cell_type": "code",
   "execution_count": 89,
   "id": "32e3003f-07e7-44db-bbeb-daceaf050028",
   "metadata": {},
   "outputs": [
    {
     "data": {
      "image/png": "[encoded data removed]",
      "text/plain": [
       "<Figure size 432x288 with 1 Axes>"
      ]
     },
     "metadata": {
      "needs_background": "light"
     },
     "output_type": "display_data"
    }
   ],
   "source": [
    "# distribution of the education variable\n",
    "sns.countplot(y='education', data=income_census, order=income_census['education'].value_counts().index)\n",
    "plt.xlabel('Number of people')\n",
    "plt.ylabel('Educational level')\n",
    "plt.title('Distribution of the educational level of people censored')\n",
    "plt.show()"
   ]
  },
  {
   "cell_type": "code",
   "execution_count": 90,
   "id": "6c998671-3e6b-4a0c-abe1-3347949bcea7",
   "metadata": {},
   "outputs": [
    {
     "data": {
      "text/plain": [
       "HS-grad         32.25\n",
       "Some-college    22.39\n",
       "Bachelors       16.45\n",
       "Masters          5.29\n",
       "Assoc-voc        4.24\n",
       "11th             3.61\n",
       "Assoc-acdm       3.28\n",
       "10th             2.87\n",
       "7th-8th          1.98\n",
       "Prof-school      1.77\n",
       "9th              1.58\n",
       "12th             1.33\n",
       "Doctorate        1.27\n",
       "5th-6th          1.02\n",
       "1st-4th          0.52\n",
       "Preschool        0.16\n",
       "Name: education, dtype: float64"
      ]
     },
     "execution_count": 90,
     "metadata": {},
     "output_type": "execute_result"
    }
   ],
   "source": [
    "# determining the protortions of the education level\n",
    "round(income_census['education'].value_counts(normalize=True) * 100, 2)"
   ]
  },
  {
   "cell_type": "markdown",
   "id": "bfede503-087c-4d1d-8dd1-42082c64125e",
   "metadata": {},
   "source": [
    "The top three educational level of people censored were HS-grad(`32.25%`), Some-college(`22.39%`) , and Bachelors(`16.45`). These 3 constitute over `71%` of the people censored, with HS-grad being the highest."
   ]
  },
  {
   "cell_type": "markdown",
   "id": "c39e1c69-c5f7-451c-98be-1a2db74f56c3",
   "metadata": {},
   "source": [
    "#### Marital status:"
   ]
  },
  {
   "cell_type": "code",
   "execution_count": 91,
   "id": "49469729-bd71-4028-8ce5-274d8814e68f",
   "metadata": {},
   "outputs": [
    {
     "data": {
      "image/png": "[encoded data removed]",
      "text/plain": [
       "<Figure size 432x288 with 1 Axes>"
      ]
     },
     "metadata": {
      "needs_background": "light"
     },
     "output_type": "display_data"
    }
   ],
   "source": [
    "# distribution of the education variable\n",
    "sns.countplot(y='marital.status', data=income_census, order=income_census['marital.status'].value_counts().index)\n",
    "plt.xlabel('Number of people')\n",
    "plt.ylabel('Marital status')\n",
    "plt.title('Distribution of the marital status of people censored')\n",
    "plt.show()"
   ]
  },
  {
   "cell_type": "code",
   "execution_count": 92,
   "id": "088b4815-b59a-4607-921b-c07111873e56",
   "metadata": {},
   "outputs": [
    {
     "data": {
      "text/plain": [
       "Married-civ-spouse       45.99\n",
       "Never-married            32.81\n",
       "Divorced                 13.65\n",
       "Separated                 3.15\n",
       "Widowed                   3.05\n",
       "Married-spouse-absent     1.28\n",
       "Married-AF-spouse         0.07\n",
       "Name: marital.status, dtype: float64"
      ]
     },
     "execution_count": 92,
     "metadata": {},
     "output_type": "execute_result"
    }
   ],
   "source": [
    "# determining the proportions of the marital status\n",
    "round(income_census['marital.status'].value_counts(normalize=True) * 100, 2)"
   ]
  },
  {
   "cell_type": "markdown",
   "id": "290c4e32-f88b-49e2-8a9f-1079eea54646",
   "metadata": {},
   "source": [
    "Proportionately, the top three marital status of people censored are Married-civ-spouse(`45.99%`), Never-married(`32.81%`), and Divorced(`13.81%`). These 3 add up to over `92%` of the people censored, with Married-civ-spouse being the highest."
   ]
  },
  {
   "cell_type": "markdown",
   "id": "f4106edb-a5f7-4414-a022-8cbfcdfdfd8d",
   "metadata": {},
   "source": [
    "#### Occupation:"
   ]
  },
  {
   "cell_type": "code",
   "execution_count": 93,
   "id": "6adb59c7-42f2-43ea-b658-a440fb10f65d",
   "metadata": {},
   "outputs": [
    {
     "data": {
      "image/png": "[encoded data removed]",
      "text/plain": [
       "<Figure size 432x288 with 1 Axes>"
      ]
     },
     "metadata": {
      "needs_background": "light"
     },
     "output_type": "display_data"
    }
   ],
   "source": [
    "# distribution of the occupation variable\n",
    "sns.countplot(y='occupation', data=income_census, order=income_census['occupation'].value_counts().index)\n",
    "plt.xlabel('Number of people')\n",
    "plt.ylabel('Occupation')\n",
    "plt.title('Distribution of the occupation of people censored')\n",
    "plt.show()"
   ]
  },
  {
   "cell_type": "code",
   "execution_count": 94,
   "id": "cf132a7f-6549-443e-9e38-fb841913d1a5",
   "metadata": {},
   "outputs": [
    {
     "data": {
      "text/plain": [
       "Prof-specialty       12.71\n",
       "Craft-repair         12.59\n",
       "Exec-managerial      12.49\n",
       "Adm-clerical         11.58\n",
       "Sales                11.21\n",
       "Other-service        10.12\n",
       "Machine-op-inspct     6.15\n",
       "NaN                   5.66\n",
       "Transport-moving      4.90\n",
       "Handlers-cleaners     4.21\n",
       "Farming-fishing       3.05\n",
       "Tech-support          2.85\n",
       "Protective-serv       1.99\n",
       "Priv-house-serv       0.46\n",
       "Armed-Forces          0.03\n",
       "Name: occupation, dtype: float64"
      ]
     },
     "execution_count": 94,
     "metadata": {},
     "output_type": "execute_result"
    }
   ],
   "source": [
    "# determining the proportions of the occupation\n",
    "round(income_census['occupation'].value_counts(normalize=True, dropna=False) * 100, 2)"
   ]
  },
  {
   "cell_type": "markdown",
   "id": "3a0c061f-7572-44a2-bb39-4c804963e96d",
   "metadata": {},
   "source": [
    "#### Relationship:"
   ]
  },
  {
   "cell_type": "code",
   "execution_count": 95,
   "id": "3356498d-3eda-4bab-b447-d8d6065c1d4f",
   "metadata": {},
   "outputs": [
    {
     "data": {
      "image/png": "[encoded data removed]",
      "text/plain": [
       "<Figure size 432x288 with 1 Axes>"
      ]
     },
     "metadata": {
      "needs_background": "light"
     },
     "output_type": "display_data"
    }
   ],
   "source": [
    "# distribution of the relationship variable\n",
    "sns.countplot(y='relationship', data=income_census, order=income_census['relationship'].value_counts().index)\n",
    "plt.xlabel('Number of people')\n",
    "plt.ylabel('Relationship')\n",
    "plt.title('Distribution of the relationship of people censored')\n",
    "plt.show()"
   ]
  },
  {
   "cell_type": "code",
   "execution_count": 96,
   "id": "d2243b4e-0a1a-4922-aa6d-56c3337d7dd9",
   "metadata": {},
   "outputs": [
    {
     "data": {
      "text/plain": [
       "Husband           40.52\n",
       "Not-in-family     25.51\n",
       "Own-child         15.56\n",
       "Unmarried         10.58\n",
       "Wife               4.82\n",
       "Other-relative     3.01\n",
       "Name: relationship, dtype: float64"
      ]
     },
     "execution_count": 96,
     "metadata": {},
     "output_type": "execute_result"
    }
   ],
   "source": [
    "# determining the proportions of relationship\n",
    "round(income_census['relationship'].value_counts(normalize=True) * 100, 2)"
   ]
  },
  {
   "cell_type": "markdown",
   "id": "f4cfe411-a147-4263-a0cf-666a828be11b",
   "metadata": {},
   "source": [
    "#### Race:"
   ]
  },
  {
   "cell_type": "code",
   "execution_count": 97,
   "id": "da5d4935-3e83-4561-a914-d01c322957e2",
   "metadata": {},
   "outputs": [
    {
     "data": {
      "image/png": "[encoded data removed]",
      "text/plain": [
       "<Figure size 432x288 with 1 Axes>"
      ]
     },
     "metadata": {
      "needs_background": "light"
     },
     "output_type": "display_data"
    }
   ],
   "source": [
    "# distribution of the race variable\n",
    "sns.countplot(y='race', data=income_census, order=income_census['race'].value_counts().index)\n",
    "plt.xlabel('Number of people')\n",
    "plt.ylabel('Race')\n",
    "plt.title('Distribution of the race of people censored')\n",
    "plt.show()"
   ]
  },
  {
   "cell_type": "code",
   "execution_count": 98,
   "id": "f52d4bcf-72d4-467e-ab80-d21a51bfd9b3",
   "metadata": {},
   "outputs": [
    {
     "data": {
      "text/plain": [
       "White                 85.43\n",
       "Black                  9.59\n",
       "Asian-Pac-Islander     3.19\n",
       "Amer-Indian-Eskimo     0.96\n",
       "Other                  0.83\n",
       "Name: race, dtype: float64"
      ]
     },
     "execution_count": 98,
     "metadata": {},
     "output_type": "execute_result"
    }
   ],
   "source": [
    "# determining the proportion of the race censored\n",
    "round(income_census['race'].value_counts(normalize=True) * 100, 2)"
   ]
  },
  {
   "cell_type": "markdown",
   "id": "5b582859-0979-4a84-a37c-a6ba485207b3",
   "metadata": {},
   "source": [
    "#### Sex:"
   ]
  },
  {
   "cell_type": "code",
   "execution_count": 99,
   "id": "5bf2fc1f-63fb-40da-bb75-3061f918da94",
   "metadata": {},
   "outputs": [
    {
     "data": {
      "image/png": "[encoded data removed]",
      "text/plain": [
       "<Figure size 432x288 with 1 Axes>"
      ]
     },
     "metadata": {
      "needs_background": "light"
     },
     "output_type": "display_data"
    }
   ],
   "source": [
    "# distribution of the sex variable\n",
    "sns.countplot(x='sex', data=income_census, order=income_census['sex'].value_counts().index)\n",
    "plt.ylabel('Number of people')\n",
    "plt.xlabel('Sex')\n",
    "plt.title('Distribution of the sex of people censored')\n",
    "plt.show()"
   ]
  },
  {
   "cell_type": "code",
   "execution_count": 100,
   "id": "1aeaf0d9-8d30-4f5a-a3e4-7a450c71996b",
   "metadata": {},
   "outputs": [
    {
     "data": {
      "text/plain": [
       "Male      66.92\n",
       "Female    33.08\n",
       "Name: sex, dtype: float64"
      ]
     },
     "execution_count": 100,
     "metadata": {},
     "output_type": "execute_result"
    }
   ],
   "source": [
    "# determining the proportions of sex\n",
    "round(income_census['sex'].value_counts(normalize=True) * 100, 2)"
   ]
  },
  {
   "cell_type": "markdown",
   "id": "bb5f4628-0127-4206-8628-674f0f29b72c",
   "metadata": {},
   "source": [
    "#### Native country:"
   ]
  },
  {
   "cell_type": "code",
   "execution_count": 101,
   "id": "7429c279-5297-4af9-95d3-3c703ab51847",
   "metadata": {},
   "outputs": [
    {
     "data": {
      "image/png": "[encoded data removed]",
      "text/plain": [
       "<Figure size 432x288 with 1 Axes>"
      ]
     },
     "metadata": {
      "needs_background": "light"
     },
     "output_type": "display_data"
    }
   ],
   "source": [
    "# distribution of the native.country variable\n",
    "sns.countplot(x='native.country', data=income_census, order=income_census['native.country'].value_counts().index)\n",
    "plt.ylabel('Number of people')\n",
    "plt.xlabel('Native country')\n",
    "plt.xticks(rotation=90, ha='right')\n",
    "plt.title('Distribution of the native country of people censored')\n",
    "plt.show()"
   ]
  },
  {
   "cell_type": "code",
   "execution_count": 102,
   "id": "3fedb1c6-59c0-4566-8d15-644c58b2fa6e",
   "metadata": {},
   "outputs": [
    {
     "data": {
      "text/plain": [
       "United-States                 89.59\n",
       "Mexico                         1.97\n",
       "NaN                            1.79\n",
       "Philippines                    0.61\n",
       "Germany                        0.42\n",
       "Canada                         0.37\n",
       "Puerto-Rico                    0.35\n",
       "El-Salvador                    0.33\n",
       "India                          0.31\n",
       "Cuba                           0.29\n",
       "England                        0.28\n",
       "Jamaica                        0.25\n",
       "South                          0.25\n",
       "China                          0.23\n",
       "Italy                          0.22\n",
       "Dominican-Republic             0.21\n",
       "Vietnam                        0.21\n",
       "Guatemala                      0.20\n",
       "Japan                          0.19\n",
       "Poland                         0.18\n",
       "Columbia                       0.18\n",
       "Taiwan                         0.16\n",
       "Haiti                          0.14\n",
       "Iran                           0.13\n",
       "Portugal                       0.11\n",
       "Nicaragua                      0.10\n",
       "Peru                           0.10\n",
       "France                         0.09\n",
       "Greece                         0.09\n",
       "Ecuador                        0.09\n",
       "Ireland                        0.07\n",
       "Hong                           0.06\n",
       "Trinadad&Tobago                0.06\n",
       "Cambodia                       0.06\n",
       "Thailand                       0.06\n",
       "Laos                           0.06\n",
       "Yugoslavia                     0.05\n",
       "Outlying-US(Guam-USVI-etc)     0.04\n",
       "Hungary                        0.04\n",
       "Honduras                       0.04\n",
       "Scotland                       0.04\n",
       "Holand-Netherlands             0.00\n",
       "Name: native.country, dtype: float64"
      ]
     },
     "execution_count": 102,
     "metadata": {},
     "output_type": "execute_result"
    }
   ],
   "source": [
    "# determining the proportions of native country\n",
    "round(income_census['native.country'].value_counts(normalize=True, dropna=False) * 100, 2)"
   ]
  },
  {
   "cell_type": "markdown",
   "id": "029b4c67-7307-48e7-b46d-e80ff331077b",
   "metadata": {},
   "source": [
    "Over `91%` of people censored were native Americans and Mexicans, with `89.59%` being native Americans."
   ]
  },
  {
   "cell_type": "markdown",
   "id": "090cc981-7440-4c28-b23f-9fbb8c38c725",
   "metadata": {},
   "source": [
    "#### Income:"
   ]
  },
  {
   "cell_type": "code",
   "execution_count": 103,
   "id": "2d313458-6260-4c8f-90b6-27a9c54ff6b6",
   "metadata": {},
   "outputs": [
    {
     "data": {
      "image/png": "[encoded data removed]",
      "text/plain": [
       "<Figure size 432x288 with 1 Axes>"
      ]
     },
     "metadata": {
      "needs_background": "light"
     },
     "output_type": "display_data"
    }
   ],
   "source": [
    "# distribution of the income variable\n",
    "sns.countplot(x='income', data=income_census, order=income_census['income'].value_counts().index)\n",
    "plt.ylabel('Number of people')\n",
    "plt.xlabel('Income')\n",
    "plt.title('Distribution of the income of people censored')\n",
    "plt.show()"
   ]
  },
  {
   "cell_type": "code",
   "execution_count": 104,
   "id": "0f0f2be0-460b-457f-92ab-990e024fc633",
   "metadata": {},
   "outputs": [
    {
     "data": {
      "text/plain": [
       "<=50K    75.92\n",
       ">50K     24.08\n",
       "Name: income, dtype: float64"
      ]
     },
     "execution_count": 104,
     "metadata": {},
     "output_type": "execute_result"
    }
   ],
   "source": [
    "# determining the proportions of income\n",
    "round(income_census['income'].value_counts(normalize=True, dropna=False) * 100, 2)"
   ]
  },
  {
   "cell_type": "markdown",
   "id": "e08638c7-9aad-49e3-9e02-2ae9c05ba2fb",
   "metadata": {},
   "source": [
    "`75.92%` of people had income <=50K whereas `24.08%` had income >50K."
   ]
  },
  {
   "cell_type": "markdown",
   "id": "0f5f6167-d5d6-4544-b080-db739c025987",
   "metadata": {},
   "source": [
    "### Bivariate exploration"
   ]
  },
  {
   "cell_type": "markdown",
   "id": "c2c90ce4-d5a6-4fad-a354-f6a2597920bc",
   "metadata": {},
   "source": [
    "#### income vs hours_per_week:"
   ]
  },
  {
   "cell_type": "code",
   "execution_count": 138,
   "id": "ca5f7486-ca7d-4f93-9254-96ce557cc60d",
   "metadata": {},
   "outputs": [
    {
     "data": {
      "image/png": "[encoded data removed]",
      "text/plain": [
       "<Figure size 360x360 with 1 Axes>"
      ]
     },
     "metadata": {
      "needs_background": "light"
     },
     "output_type": "display_data"
    }
   ],
   "source": [
    "# distribution of the income across the various age groups\n",
    "sns.catplot(x='income', y='hours.per.week', data=income_census, kind='box')\n",
    "plt.title('Average work hours per week vs Income level and Age group')\n",
    "plt.show()"
   ]
  },
  {
   "cell_type": "markdown",
   "id": "bd9bd941-16a8-43e3-8368-33f4258e8fab",
   "metadata": {},
   "source": [
    "#### income and age_group vs hours_per week"
   ]
  },
  {
   "cell_type": "code",
   "execution_count": 139,
   "id": "98a060c2-ab90-4add-96af-eba95286339b",
   "metadata": {},
   "outputs": [
    {
     "data": {
      "image/png": "[encoded data removed]",
      "text/plain": [
       "<Figure size 425.125x360 with 1 Axes>"
      ]
     },
     "metadata": {
      "needs_background": "light"
     },
     "output_type": "display_data"
    }
   ],
   "source": [
    "# distribution of the income across the various age groups\n",
    "sns.catplot(x='income', y='hours.per.week', data=income_census, kind='box', hue='age_group')\n",
    "plt.title('Average work hours per week vs Income level and Age group')\n",
    "plt.show()"
   ]
  },
  {
   "cell_type": "code",
   "execution_count": null,
   "id": "ca0adfbf-95e9-411c-bda0-fed47ac4fdc1",
   "metadata": {},
   "outputs": [],
   "source": []
  }
 ],
 "metadata": {
  "kernelspec": {
   "display_name": "Python 3 (ipykernel)",
   "language": "python",
   "name": "python3"
  },
  "language_info": {
   "codemirror_mode": {
    "name": "ipython",
    "version": 3
   },
   "file_extension": ".py",
   "mimetype": "text/x-python",
   "name": "python",
   "nbconvert_exporter": "python",
   "pygments_lexer": "ipython3",
   "version": "3.9.7"
  }
 },
 "nbformat": 4,
 "nbformat_minor": 5
}
